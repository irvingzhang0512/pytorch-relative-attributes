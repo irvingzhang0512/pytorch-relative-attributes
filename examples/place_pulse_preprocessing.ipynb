{
 "nbformat": 4,
 "nbformat_minor": 2,
 "metadata": {
  "language_info": {
   "name": "python",
   "codemirror_mode": {
    "name": "ipython",
    "version": 3
   },
   "version": "3.6.9-final"
  },
  "orig_nbformat": 2,
  "file_extension": ".py",
  "mimetype": "text/x-python",
  "name": "python",
  "npconvert_exporter": "python",
  "pygments_lexer": "ipython3",
  "version": 3,
  "kernelspec": {
   "name": "python3",
   "display_name": "Python 3"
  }
 },
 "cells": [
  {
   "cell_type": "code",
   "execution_count": 4,
   "metadata": {},
   "outputs": [
    {
     "name": "stderr",
     "output_type": "stream",
     "text": "100%|██████████| 111390/111390 [08:01<00:00, 231.47it/s]\n"
    },
    {
     "ename": "OSError",
     "evalue": "[Errno 22] Invalid argument: 'E:\\x0bscprojects\\\\pytorch-relative-attributes\\\\logs\\\\borken_img_list_place_pulse.txt'",
     "output_type": "error",
     "traceback": [
      "\u001b[1;31m---------------------------------------------------------------------------\u001b[0m",
      "\u001b[1;31mOSError\u001b[0m                                   Traceback (most recent call last)",
      "\u001b[1;32m<ipython-input-4-3ffe55f51706>\u001b[0m in \u001b[0;36m<module>\u001b[1;34m\u001b[0m\n\u001b[0;32m     19\u001b[0m     \u001b[0mcnt\u001b[0m \u001b[1;33m+=\u001b[0m \u001b[1;36m1\u001b[0m\u001b[1;33m\u001b[0m\u001b[1;33m\u001b[0m\u001b[0m\n\u001b[0;32m     20\u001b[0m \u001b[1;31m# 共 663 张无效图片，下面保存无效图片名称\u001b[0m\u001b[1;33m\u001b[0m\u001b[1;33m\u001b[0m\u001b[1;33m\u001b[0m\u001b[0m\n\u001b[1;32m---> 21\u001b[1;33m \u001b[1;32mwith\u001b[0m \u001b[0mopen\u001b[0m\u001b[1;33m(\u001b[0m\u001b[1;34m'E:\\vscprojects\\\\pytorch-relative-attributes\\\\logs\\\\borken_img_list_place_pulse.txt'\u001b[0m\u001b[1;33m,\u001b[0m \u001b[1;34m'w'\u001b[0m\u001b[1;33m)\u001b[0m \u001b[1;32mas\u001b[0m \u001b[0mf\u001b[0m\u001b[1;33m:\u001b[0m\u001b[1;33m\u001b[0m\u001b[1;33m\u001b[0m\u001b[0m\n\u001b[0m\u001b[0;32m     22\u001b[0m     \u001b[1;32mfor\u001b[0m \u001b[0mline\u001b[0m \u001b[1;32min\u001b[0m \u001b[0mbroken_list\u001b[0m\u001b[1;33m:\u001b[0m\u001b[1;33m\u001b[0m\u001b[1;33m\u001b[0m\u001b[0m\n\u001b[0;32m     23\u001b[0m         \u001b[0mf\u001b[0m\u001b[1;33m.\u001b[0m\u001b[0mwrite\u001b[0m\u001b[1;33m(\u001b[0m\u001b[0mline\u001b[0m \u001b[1;33m+\u001b[0m \u001b[1;34m'\\n'\u001b[0m\u001b[1;33m)\u001b[0m\u001b[1;33m\u001b[0m\u001b[1;33m\u001b[0m\u001b[0m\n",
      "\u001b[1;31mOSError\u001b[0m: [Errno 22] Invalid argument: 'E:\\x0bscprojects\\\\pytorch-relative-attributes\\\\logs\\\\borken_img_list_place_pulse.txt'"
     ]
    }
   ],
   "source": [
    "# 查看无效的 place pulse 图片列表\n",
    "# 比如 514135dcfdc9f04926004b61\n",
    "import cv2\n",
    "import os\n",
    "import numpy as np\n",
    "import matplotlib.pyplot as plt\n",
    "from tqdm import tqdm\n",
    "image_dir = 'F:\\\\data\\\\PlacePulse\\\\images'\n",
    "files = os.listdir(image_dir)\n",
    "sample_image_file_name = os.path.join(image_dir, '514135dcfdc9f04926004b61.jpg')\n",
    "sample_image = cv2.imread(sample_image_file_name)\n",
    "plt.imshow(sample_image)\n",
    "broken_list = []\n",
    "cnt = 0\n",
    "for file in tqdm(files):\n",
    "    cur_img = cv2.imread(os.path.join(image_dir, file))\n",
    "    if np.max(np.abs(cur_img - sample_image)) == 0:\n",
    "        broken_list.append(file)\n",
    "    cnt += 1"
   ]
  },
  {
   "cell_type": "code",
   "execution_count": 6,
   "metadata": {},
   "outputs": [],
   "source": [
    "# 共 663 张无效图片，下面保存无效图片名称\n",
    "with open('E:\\\\vscprojects\\\\pytorch-relative-attributes\\\\logs\\\\borken_img_list_place_pulse.txt', 'w') as f:\n",
    "    for line in broken_list:\n",
    "        f.write(line + '\\n')"
   ]
  },
  {
   "cell_type": "code",
   "execution_count": 9,
   "metadata": {},
   "outputs": [],
   "source": [
    "# 通过 broken_list_file 获取所有受影响的图片列表\n",
    "# 更新csv\n",
    "import os\n",
    "import pandas as pd\n",
    "src_csv_file = os.path.join(\"F:\\\\data\\\\PlacePulse\\\\votes.csv\")\n",
    "target_csv_file = os.path.join(\"F:\\\\data\\\\PlacePulse\\\\annos.csv\")\n",
    "broken_names = [name[:name.find('.')] for name in broken_list]\n",
    "df = pd.read_csv(src_csv_file)"
   ]
  },
  {
   "cell_type": "code",
   "execution_count": 10,
   "metadata": {},
   "outputs": [
    {
     "name": "stdout",
     "output_type": "stream",
     "text": "F:\\data\\PlacePulse\\votes.csv has 14093 error samples\n"
    }
   ],
   "source": [
    "delete_line_ids = []\n",
    "cur_line = 0\n",
    "for r in df.iterrows():\n",
    "    if r[1].left_id in broken_names or r[1].right_id in broken_names:\n",
    "        delete_line_ids.append(cur_line)\n",
    "    cur_line += 1\n",
    "print('{} has {} error samples'.format(src_csv_file, len(delete_line_ids)))\n",
    "df = df.drop(delete_line_ids)\n",
    "df.to_csv(target_csv_file, index=False)"
   ]
  },
  {
   "cell_type": "code",
   "execution_count": null,
   "metadata": {},
   "outputs": [],
   "source": []
  }
 ]
}